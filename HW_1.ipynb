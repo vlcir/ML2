{
 "cells": [
  {
   "cell_type": "markdown",
   "id": "7dbe8a36-6d29-4020-908c-09aaa9da46c6",
   "metadata": {},
   "source": [
    "# ДЗ 1"
   ]
  },
  {
   "cell_type": "markdown",
   "id": "e3c48a7d-9787-4f52-b69a-86e131dc829c",
   "metadata": {},
   "source": [
    "# Задание 3\n",
    "\n",
    "Реализуйте регулеризованый LDA с двумя параметрами из лекции. Сравните его с логистической рергерссией (осуществите тюнинг гиперпараметров для обоих моделей) на публичных датасетах (хотя бы 5) из UCI (https://archive.ics.uci.edu/).\n",
    "\n",
    "**Дополнительно**: постарайтесь найти датасеты, где LDA работает лучше и попробуйте объяснить почему.\n",
    "\n",
    "Подсказка: если данных достаточно много, то LDA и LogReg не будут отличаться даже если предположения LDA выполняются - попробуйте уменьшать обучающую выборку чтобы найти ситуации, когда LDA работает лучше. Если не получается с публичными датасетами - сгенерируйте (в этом случае посчитайте bias и variance для LDA и LorReg)."
   ]
  },
  {
   "cell_type": "code",
   "execution_count": 1,
   "id": "46cfb638",
   "metadata": {
    "vscode": {
     "languageId": "plaintext"
    }
   },
   "outputs": [],
   "source": [
    "import numpy as np\n",
    "import pandas as pd\n",
    "from sklearn.base import BaseEstimator, ClassifierMixin\n",
    "from sklearn.linear_model import LogisticRegression\n",
    "from sklearn.model_selection import train_test_split, GridSearchCV, StratifiedKFold\n",
    "from sklearn.metrics import accuracy_score\n",
    "from sklearn.preprocessing import LabelEncoder, StandardScaler\n",
    "from sklearn.datasets import fetch_openml\n",
    "import matplotlib.pyplot as plt\n",
    "from sklearn.impute import SimpleImputer\n",
    "\n",
    "\n",
    "class RegularizedLDA(BaseEstimator, ClassifierMixin):\n",
    "    def __init__(self, alpha=0, beta=0):\n",
    "        self.alpha = alpha\n",
    "        self.beta = beta\n",
    "\n",
    "    def fit(self, X, y):\n",
    "        self.classes_ = np.unique(y)\n",
    "        n_classes = len(self.classes_)\n",
    "        n_features = X.shape[1]\n",
    "        \n",
    "        pi_k = []\n",
    "        mu_k = []\n",
    "        cov_k = []\n",
    "        for c in self.classes_:\n",
    "            X_c = X[y == c]\n",
    "            pi_k.append(len(X_c) / len(X))\n",
    "            mu_k.append(X_c.mean(axis=0))\n",
    "            cov_k.append(np.cov(X_c, rowvar=False))\n",
    "        self.pi_k = np.array(pi_k)\n",
    "        self.mu_k = np.array(mu_k)\n",
    "        self.cov_k = np.array(cov_k)\n",
    "\n",
    "        \n",
    "        sigma = np.zeros((n_features, n_features))\n",
    "        for k in range(n_classes):\n",
    "            sigma += np.sum(y == self.classes_[k]) * self.cov_k[k]\n",
    "        sigma /= (X.shape[0] - n_classes)\n",
    "        \n",
    "        diag_sigma = np.diag(np.diag(sigma))  \n",
    "        sigma = self.beta * sigma + (1 -self.beta) * diag_sigma\n",
    "\n",
    "        sigma_regularized = np.zeros_like(self.cov_k)\n",
    "        for k in range(n_classes):\n",
    "            sigma_regularized[k] = self.alpha * self.cov_k[k] + (1 - self.alpha) * sigma\n",
    "        self.sigma = sigma_regularized\n",
    "        \n",
    "        return self\n",
    "\n",
    "    def predict(self,X):    \n",
    "        scores = []\n",
    "        for k in range(len(self.classes_)):\n",
    "            inv_sigma_k = np.linalg.inv(self.sigma[k])\n",
    "            delta = X @ inv_sigma_k @ self.mu_k[k] - 0.5 * self.mu_k[k].T @ inv_sigma_k @ self.mu_k[k] + np.log(self.pi_k[k])\n",
    "            scores.append(delta)\n",
    "        scores = np.array(scores).T\n",
    "        return self.classes_[np.argmax(scores, axis=1)]"
   ]
  },
  {
   "cell_type": "code",
   "execution_count": 2,
   "id": "2418b074-e0a4-4298-900c-b47d08300c12",
   "metadata": {},
   "outputs": [
    {
     "name": "stderr",
     "output_type": "stream",
     "text": [
      "C:\\Users\\chesn\\miniconda3\\envs\\ml_py11_torchvision\\Lib\\site-packages\\sklearn\\datasets\\_openml.py:322: UserWarning: Multiple active versions of the dataset matching the name iris exist. Versions may be fundamentally different, returning version 1. Available versions:\n",
      "- version 1, status: active\n",
      "  url: https://www.openml.org/search?type=data&id=61\n",
      "- version 3, status: active\n",
      "  url: https://www.openml.org/search?type=data&id=969\n",
      "\n",
      "  warn(warning_msg)\n",
      "C:\\Users\\chesn\\miniconda3\\envs\\ml_py11_torchvision\\Lib\\site-packages\\sklearn\\datasets\\_openml.py:322: UserWarning: Multiple active versions of the dataset matching the name adult exist. Versions may be fundamentally different, returning version 1. Available versions:\n",
      "- version 1, status: active\n",
      "  url: https://www.openml.org/search?type=data&id=179\n",
      "- version 2, status: active\n",
      "  url: https://www.openml.org/search?type=data&id=1590\n",
      "\n",
      "  warn(warning_msg)\n",
      "C:\\Users\\chesn\\miniconda3\\envs\\ml_py11_torchvision\\Lib\\site-packages\\sklearn\\datasets\\_openml.py:322: UserWarning: Multiple active versions of the dataset matching the name wine exist. Versions may be fundamentally different, returning version 1. Available versions:\n",
      "- version 1, status: active\n",
      "  url: https://www.openml.org/search?type=data&id=187\n",
      "- version 2, status: active\n",
      "  url: https://www.openml.org/search?type=data&id=973\n",
      "\n",
      "  warn(warning_msg)\n"
     ]
    },
    {
     "name": "stdout",
     "output_type": "stream",
     "text": [
      "Dataset: iris\n",
      "LDA best accuracy: 0.9777777777777777, with params: {'alpha': 0.0, 'beta': 0.7777777777777777}\n",
      "Logreg best accuracy: 0.9555555555555556, with params: {'C': 359381.36638046405}\n",
      "\n",
      "Dataset: adult\n",
      "LDA best accuracy: 0.8267249027502901, with params: {'alpha': 0.1111111111111111, 'beta': 0.7777777777777777}\n",
      "Logreg best accuracy: 0.824814031256398, with params: {'C': 12.915496650148826}\n",
      "\n",
      "Dataset: spambase\n",
      "LDA best accuracy: 0.9333816075307748, with params: {'alpha': 0.7777777777777777, 'beta': 0.4444444444444444}\n",
      "Logreg best accuracy: 0.9341057204923968, with params: {'C': 12.915496650148826}\n",
      "\n",
      "Dataset: wine\n",
      "LDA best accuracy: 0.9814814814814815, with params: {'alpha': 0.0, 'beta': 0.8888888888888888}\n",
      "Logreg best accuracy: 0.9629629629629629, with params: {'C': 2154.4346900318865}\n",
      "\n",
      "Dataset: banknote-authentication\n",
      "LDA best accuracy: 0.9854368932038835, with params: {'alpha': 1.0, 'beta': 0.0}\n",
      "Logreg best accuracy: 0.9927184466019418, with params: {'C': 2154.4346900318865}\n",
      "\n"
     ]
    }
   ],
   "source": [
    "dataset_names = [\"iris\", \"adult\", \"spambase\", \"wine\", \"banknote-authentication\"]\n",
    "\n",
    "datasets = []\n",
    "for name in dataset_names:\n",
    "    data = fetch_openml(name, as_frame=True, parser=\"pandas\")\n",
    "    X = data.data\n",
    "    y = data.target.astype(\"category\").cat.codes\n",
    "    datasets.append((name, X, y))\n",
    "\n",
    "lda_params = {'alpha': np.linspace(0, 1, 10), 'beta': np.linspace(0, 1, 10)}\n",
    "logreg_params = {'C': np.logspace(-10, 10, 10)}\n",
    "\n",
    "\n",
    "best_models = {}\n",
    "\n",
    "for name, X, y in datasets:\n",
    "    num_cols = X.select_dtypes(include=['int64', 'float64']).columns\n",
    "    cat_cols = X.select_dtypes(include=['object', 'category']).columns\n",
    "\n",
    "    for col in cat_cols:\n",
    "         X[col] = LabelEncoder().fit_transform(X[col])\n",
    "    \n",
    "    if y.dtype == 'object':\n",
    "        y = LabelEncoder().fit_transform(y)\n",
    "    else:\n",
    "        y = y.astype(int)\n",
    "\n",
    "    scaler = StandardScaler()\n",
    "    X = scaler.fit_transform(X)\n",
    "\n",
    "    X_train, X_test, y_train, y_test = train_test_split(X, y, test_size=0.3, random_state=424, stratify=y)\n",
    "\n",
    "    \n",
    "    lda = RegularizedLDA()\n",
    "    lda_gs = GridSearchCV(lda, param_grid=lda_params, cv=StratifiedKFold(5), scoring=\"accuracy\")\n",
    "    lda_gs.fit(X_train, y_train)\n",
    "    lda_best = lda_gs.best_estimator_\n",
    "    lda_pred = lda_best.predict(X_test)\n",
    "    lda_acc = accuracy_score(y_test, lda_pred)\n",
    "\n",
    "    logreg = LogisticRegression(solver=\"lbfgs\", max_iter=1000, multi_class=\"auto\")\n",
    "    logreg_gs = GridSearchCV(logreg, param_grid=logreg_params, cv=StratifiedKFold(5), scoring=\"accuracy\")\n",
    "    logreg_gs.fit(X_train, y_train)\n",
    "    logreg_best = logreg_gs.best_estimator_\n",
    "    logreg_pred = logreg_best.predict(X_test)\n",
    "    logreg_acc = accuracy_score(y_test, logreg_pred)\n",
    "\n",
    "    best_models[name] = {'lda_best_params': lda_gs.best_params_, 'logreg_best_params': logreg_gs.best_params_}\n",
    "    \n",
    "    print(f\"Dataset: {name}\")\n",
    "    print(f\"LDA best accuracy: {lda_acc}, with params: {lda_gs.best_params_:}\")\n",
    "    print(f\"Logreg best accuracy: {logreg_acc}, with params: {logreg_gs.best_params_:}\", end = '\\n\\n')\n"
   ]
  },
  {
   "cell_type": "code",
   "execution_count": 3,
   "id": "7ebe568b-f6ad-4026-8ff7-6664991a0778",
   "metadata": {},
   "outputs": [
    {
     "name": "stdout",
     "output_type": "stream",
     "text": [
      "\" iris \" Dataset size = 150\n"
     ]
    },
    {
     "data": {
      "image/png": "[encoded data removed]",
      "text/plain": [
       "<Figure size 640x480 with 1 Axes>"
      ]
     },
     "metadata": {},
     "output_type": "display_data"
    }
   ],
   "source": [
    "name, X, y = datasets[0]\n",
    "\n",
    "num_cols = X.select_dtypes(include=['int64', 'float64']).columns\n",
    "cat_cols = X.select_dtypes(include=['object', 'category']).columns\n",
    "\n",
    "for col in cat_cols:\n",
    "     X[col] = LabelEncoder().fit_transform(X[col])\n",
    "\n",
    "if y.dtype == 'object':\n",
    "    y = LabelEncoder().fit_transform(y)\n",
    "else:\n",
    "    y = y.astype(int)\n",
    "\n",
    "lda_scores = []\n",
    "logreg_scores = []\n",
    "train_rations = np.logspace(-1, -0.1, 10)\n",
    "for train_ratio in train_rations:\n",
    "    scaler = StandardScaler()\n",
    "    X = scaler.fit_transform(X)\n",
    "    X_train, X_test, y_train, y_test = train_test_split(X, y, train_size=train_ratio, random_state=44, stratify=y)\n",
    "\n",
    "    lda = RegularizedLDA(**best_models[name]['lda_best_params'])\n",
    "    lda.fit(X_train, y_train)\n",
    "    lda_scores.append(accuracy_score(y_test, lda.predict(X_test)))\n",
    "        \n",
    "    lr = LogisticRegression(solver=\"lbfgs\", max_iter=1000, multi_class=\"auto\", **best_models[name]['logreg_best_params'])\n",
    "    lr.fit(X_train, y_train)\n",
    "    logreg_scores.append(accuracy_score(y_test, lr.predict(X_test)))\n",
    "\n",
    "print('\"', name, '\"', 'Dataset size =', X.shape[0])\n",
    "plt.plot(train_rations, lda_scores, label='LDA', marker = 'o')\n",
    "plt.plot(train_rations, logreg_scores, label='LogReg', marker = 'o')\n",
    "plt.xlabel('Train ratio')\n",
    "plt.ylabel('Accuracy')\n",
    "plt.legend()\n",
    "plt.show()"
   ]
  },
  {
   "cell_type": "markdown",
   "id": "9b97dbbd-32bd-4f92-88e6-eb0f2d21fc1b",
   "metadata": {},
   "source": [
    "Как видно при маленьком размере датасета lda может работать эффективнее, так как использует предположения о распределении данных, а у логистической регрессии может не хватать данных для хорошей оценки"
   ]
  }
 ],
 "metadata": {
  "kernelspec": {
   "display_name": "Python 3 (ipykernel)",
   "language": "python",
   "name": "python3"
  },
  "language_info": {
   "codemirror_mode": {
    "name": "ipython",
    "version": 3
   },
   "file_extension": ".py",
   "mimetype": "text/x-python",
   "name": "python",
   "nbconvert_exporter": "python",
   "pygments_lexer": "ipython3",
   "version": "3.11.8"
  }
 },
 "nbformat": 4,
 "nbformat_minor": 5
}
